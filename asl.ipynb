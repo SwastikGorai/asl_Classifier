{
  "nbformat": 4,
  "nbformat_minor": 0,
  "metadata": {
    "colab": {
      "provenance": [],
      "authorship_tag": "ABX9TyPXgL2YGakR2FtE2tpepoXv",
      "include_colab_link": true
    },
    "kernelspec": {
      "name": "python3",
      "display_name": "Python 3"
    },
    "language_info": {
      "name": "python"
    },
    "gpuClass": "standard",
    "accelerator": "GPU"
  },
  "cells": [
    {
      "cell_type": "markdown",
      "metadata": {
        "id": "view-in-github",
        "colab_type": "text"
      },
      "source": [
        "<a href=\"https://colab.research.google.com/github/SwastikGorai/automatic-octo-umbrella/blob/main/asl.ipynb\" target=\"_parent\"><img src=\"https://colab.research.google.com/assets/colab-badge.svg\" alt=\"Open In Colab\"/></a>"
      ]
    },
    {
      "cell_type": "code",
      "source": [
        "import tensorflow as tf\n",
        "tf.test.gpu_device_name()"
      ],
      "metadata": {
        "colab": {
          "base_uri": "https://localhost:8080/",
          "height": 36
        },
        "id": "Is685QpFb23Y",
        "outputId": "808c60ae-b957-4080-8520-53fa4afe1683"
      },
      "execution_count": 3,
      "outputs": [
        {
          "output_type": "execute_result",
          "data": {
            "text/plain": [
              "'/device:GPU:0'"
            ],
            "application/vnd.google.colaboratory.intrinsic+json": {
              "type": "string"
            }
          },
          "metadata": {},
          "execution_count": 3
        }
      ]
    },
    {
      "cell_type": "code",
      "execution_count": null,
      "metadata": {
        "id": "lrevwl2_W05w"
      },
      "outputs": [],
      "source": [
        "!pip install tensorflow-gpu==2.4.0\n",
        "!pip install kaggle\n",
        "!pip install opencv-python\n"
      ]
    },
    {
      "cell_type": "code",
      "source": [
        "# Replace \"YOUR_API_KEY\" with your actual API key\n",
        "# If it throws error, run cell again\n",
        "!echo '{\"username\":\"YOUR_USERNAME\",\"key\":\"YOUR_API_KEY\"}' > /root/.kaggle/kaggle.json\n",
        "\n",
        "# Download the ASL dataset\n",
        "!kaggle datasets download -d grassknoted/asl-alphabet\n",
        "\n",
        "# Unzip the downloaded dataset\n",
        "!unzip asl-alphabet.zip\n"
      ],
      "metadata": {
        "id": "Jeb7WN94XWth"
      },
      "execution_count": null,
      "outputs": []
    },
    {
      "cell_type": "code",
      "source": [
        "import tensorflow as tf\n",
        "from sklearn.model_selection import train_test_split\n",
        "import numpy as np\n",
        "import cv2\n",
        "import os\n",
        "\n",
        "# Load the data\n",
        "X = []\n",
        "y = []\n",
        "\n",
        "# Load the images and labels from the dataset\n",
        "for directory in os.listdir('asl_alphabet_train'):\n",
        "  for filename in os.listdir(f'asl_alphabet_train/{directory}'):\n",
        "    for ff in os.listdir(f'asl_alphabet_train/{directory}/{filename}'):\n",
        "      image = cv2.imread(f'asl_alphabet_train/{directory}/{filename}/{ff}')\n",
        "      print(image)\n",
        "      if image is not None:\n",
        "        image = cv2.resize(image, (64, 64))\n",
        "        X.append(image)\n",
        "        y.append(directory)"
      ],
      "metadata": {
        "id": "yNKlBGnfYBnx"
      },
      "execution_count": null,
      "outputs": []
    },
    {
      "cell_type": "code",
      "source": [
        "# Convert the data to NumPy arrays\n",
        "X = np.array(X)\n",
        "y = np.array(y)\n",
        "\n",
        "# Split the data into training and validation sets\n",
        "X_train, X_val, y_train, y_val = train_test_split(X, y, test_size=0.2, random_state=42)"
      ],
      "metadata": {
        "id": "_kJmQGR7cwuG"
      },
      "execution_count": 8,
      "outputs": []
    },
    {
      "cell_type": "code",
      "source": [
        "# To check Nullity of variables\n",
        "print(X_train, X_val, y_train, y_val)"
      ],
      "metadata": {
        "id": "CLsjMWuHeZGO"
      },
      "execution_count": null,
      "outputs": []
    },
    {
      "cell_type": "code",
      "source": [
        "# Define the model\n",
        "model = tf.keras.models.Sequential()\n",
        "\n",
        "# Add the first convolutional layer\n",
        "model.add(tf.keras.layers.Conv2D(32, (3, 3), activation='relu', input_shape=(64, 64, 3)))\n",
        "model.add(tf.keras.layers.MaxPooling2D((2, 2)))\n",
        "\n",
        "# Add the second convolutional layer\n",
        "model.add(tf.keras.layers.Conv2D(64, (3, 3), activation='relu'))\n",
        "model.add(tf.keras.layers.MaxPooling2D((2, 2)))\n",
        "\n",
        "# Add the third convolutional layer\n",
        "model.add(tf.keras.layers.Conv2D(128, (3, 3), activation='relu'))\n",
        "model.add(tf.keras.layers.MaxPooling2D((2, 2)))\n",
        "\n",
        "# Add a flattening layer\n",
        "model.add(tf.keras.layers.Flatten())\n"
      ],
      "metadata": {
        "id": "xJBF-QQ2bgfa"
      },
      "execution_count": 9,
      "outputs": []
    },
    {
      "cell_type": "code",
      "source": [
        "# Add the first fully connected layer\n",
        "model.add(tf.keras.layers.Dense(512, activation='relu'))\n",
        "model.add(tf.keras.layers.Dropout(0.5))\n",
        "\n",
        "# Add the second fully connected layer\n",
        "model.add(tf.keras.layers.Dense(26, activation='softmax'))"
      ],
      "metadata": {
        "id": "9n6dzMETcGsI"
      },
      "execution_count": 10,
      "outputs": []
    },
    {
      "cell_type": "code",
      "source": [
        "# Compile the model\n",
        "model.compile(optimizer='adam', loss='sparse_categorical_crossentropy', metrics=['accuracy'])"
      ],
      "metadata": {
        "id": "d03nngqmXe0r"
      },
      "execution_count": 11,
      "outputs": []
    },
    {
      "cell_type": "code",
      "source": [
        "from sklearn.preprocessing import LabelEncoder\n",
        "\n",
        "# Encode the labels\n",
        "encoder = LabelEncoder()\n",
        "y_train = encoder.fit_transform(y_train)\n",
        "y_val = encoder.transform(y_val)\n"
      ],
      "metadata": {
        "id": "Y0xw8zMPkIG8"
      },
      "execution_count": 12,
      "outputs": []
    },
    {
      "cell_type": "code",
      "source": [
        "# Train the model\n",
        "model.fit(X_train, y_train, epochs=10, batch_size=32, validation_data=(X_val, y_val))"
      ],
      "metadata": {
        "id": "SD2omelDcLLn"
      },
      "execution_count": null,
      "outputs": []
    },
    {
      "cell_type": "code",
      "source": [
        "# Evaluate the model\n",
        "loss, accuracy = model.evaluate(X_val, y_val)\n",
        "\n",
        "print(f'Loss: {loss:.4f}')\n",
        "print(f'Accuracy: {accuracy:.4f}')\n"
      ],
      "metadata": {
        "id": "yDkx9n0lcPtc"
      },
      "execution_count": null,
      "outputs": []
    },
    {
      "cell_type": "code",
      "source": [
        "# Save the model\n",
        "model.save('model.h5')"
      ],
      "metadata": {
        "id": "pyb3LzyeoIdl"
      },
      "execution_count": 15,
      "outputs": []
    },
    {
      "cell_type": "code",
      "source": [
        "# Save the model in the SavedModel format\n",
        "tf.saved_model.save(model, 'saved_model')"
      ],
      "metadata": {
        "id": "8k--tHHauJrG"
      },
      "execution_count": null,
      "outputs": []
    },
    {
      "cell_type": "code",
      "source": [
        "# Save the model in .tflite format\n",
        "!tflite_convert \\\n",
        "  --saved_model_dir=saved_model \\\n",
        "  --output_file=model.tflite\n",
        "\n"
      ],
      "metadata": {
        "id": "c9vcZfmiuU52"
      },
      "execution_count": null,
      "outputs": []
    },
    {
      "cell_type": "code",
      "source": [],
      "metadata": {
        "id": "WFLyKNcFu_gz"
      },
      "execution_count": null,
      "outputs": []
    }
  ]
}